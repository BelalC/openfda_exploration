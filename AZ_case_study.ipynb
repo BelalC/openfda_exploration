{
 "cells": [
  {
   "cell_type": "markdown",
   "metadata": {
    "slideshow": {
     "slide_type": "slide"
    }
   },
   "source": [
    "# Astra Zeneca Case Study:\n",
    "## exploring adverse drug events reported in OpenFDA database"
   ]
  },
  {
   "cell_type": "markdown",
   "metadata": {
    "slideshow": {
     "slide_type": "skip"
    }
   },
   "source": [
    "At interview you should expect to discuss your code, any statistics or visualizations you may have used, limitations of the underlying data, and how your solution could be generalized, extended, and made into a robust product. \n"
   ]
  },
  {
   "cell_type": "code",
   "execution_count": 45,
   "metadata": {
    "collapsed": true,
    "slideshow": {
     "slide_type": "skip"
    }
   },
   "outputs": [],
   "source": [
    "import pandas as pd\n",
    "import json\n",
    "import requests\n",
    "import matplotlib.pyplot as plt\n",
    "\n",
    "from pandas.io.json import json_normalize"
   ]
  },
  {
   "cell_type": "markdown",
   "metadata": {
    "slideshow": {
     "slide_type": "slide"
    }
   },
   "source": [
    "## Are different adverse events reported in different countries?     "
   ]
  },
  {
   "cell_type": "code",
   "execution_count": 46,
   "metadata": {
    "collapsed": false,
    "scrolled": true,
    "slideshow": {
     "slide_type": "subslide"
    }
   },
   "outputs": [
    {
     "data": {
      "text/plain": [
       "(100, 2)"
      ]
     },
     "execution_count": 46,
     "metadata": {},
     "output_type": "execute_result"
    }
   ],
   "source": [
    "#get all patient reactions\n",
    "URL = \"https://api.fda.gov/drug/event.json?count=patient.reaction.reactionmeddrapt.exact\"\n",
    "data = requests.get(URL).json()\n",
    "rxn_counts = pd.DataFrame(data.get(\"results\"))\n",
    "rxn_counts.shape"
   ]
  },
  {
   "cell_type": "code",
   "execution_count": 47,
   "metadata": {
    "collapsed": false,
    "slideshow": {
     "slide_type": "subslide"
    }
   },
   "outputs": [
    {
     "data": {
      "text/html": [
       "<div>\n",
       "<table border=\"1\" class=\"dataframe\">\n",
       "  <thead>\n",
       "    <tr style=\"text-align: right;\">\n",
       "      <th></th>\n",
       "      <th>count</th>\n",
       "      <th>term</th>\n",
       "    </tr>\n",
       "  </thead>\n",
       "  <tbody>\n",
       "    <tr>\n",
       "      <th>0</th>\n",
       "      <td>418242</td>\n",
       "      <td>DRUG INEFFECTIVE</td>\n",
       "    </tr>\n",
       "    <tr>\n",
       "      <th>1</th>\n",
       "      <td>318287</td>\n",
       "      <td>NAUSEA</td>\n",
       "    </tr>\n",
       "  </tbody>\n",
       "</table>\n",
       "</div>"
      ],
      "text/plain": [
       "    count              term\n",
       "0  418242  DRUG INEFFECTIVE\n",
       "1  318287            NAUSEA"
      ]
     },
     "execution_count": 47,
     "metadata": {},
     "output_type": "execute_result"
    }
   ],
   "source": [
    "rxn_counts.head(2)"
   ]
  },
  {
   "cell_type": "code",
   "execution_count": 48,
   "metadata": {
    "collapsed": false,
    "slideshow": {
     "slide_type": "subslide"
    }
   },
   "outputs": [
    {
     "data": {
      "text/plain": [
       "(100, 2)"
      ]
     },
     "execution_count": 48,
     "metadata": {},
     "output_type": "execute_result"
    }
   ],
   "source": [
    "#get all country counts \n",
    "URL = \"https://api.fda.gov/drug/event.json?count=occurcountry.exact\"\n",
    "data = requests.get(URL).json()\n",
    "country = pd.DataFrame(data.get(\"results\"))\n",
    "country.shape"
   ]
  },
  {
   "cell_type": "code",
   "execution_count": 49,
   "metadata": {
    "collapsed": false,
    "scrolled": true,
    "slideshow": {
     "slide_type": "subslide"
    }
   },
   "outputs": [],
   "source": [
    "# list of reactions\n",
    "rxns = []\n",
    "for i in rxn_counts.term:\n",
    "    rxns.append(i.replace(\" \", \"+\"))\n",
    "\n",
    "# create list of URLS to get reaction counts for all countries\n",
    "URL = \"https://api.fda.gov/drug/event.json?search=patient.reaction.reactionmeddrapt:XXX&count=occurcountry.exact\"\n",
    "URL_x=[]\n",
    "for i in rxns:\n",
    "    URL_x.append(URL.replace(\"XXX\", i))\n",
    "\n",
    "# download data and store in dataframe\n",
    "df_append = []\n",
    "for url in URL_x:\n",
    "    data = requests.get(url).json()\n",
    "    df = pd.DataFrame(data.get(\"results\"))\n",
    "    df.set_index(\"term\", drop=True, inplace=True)\n",
    "    df_append.append(df)"
   ]
  },
  {
   "cell_type": "code",
   "execution_count": 50,
   "metadata": {
    "collapsed": false,
    "scrolled": true,
    "slideshow": {
     "slide_type": "subslide"
    }
   },
   "outputs": [
    {
     "data": {
      "text/plain": [
       "(178, 100)"
      ]
     },
     "execution_count": 50,
     "metadata": {},
     "output_type": "execute_result"
    }
   ],
   "source": [
    "# concatenate all diseases by country\n",
    "\n",
    "final_df = pd.concat(df_append, axis = 1)\n",
    "final_df.columns = rxns\n",
    "final_df.shape"
   ]
  },
  {
   "cell_type": "code",
   "execution_count": 51,
   "metadata": {
    "collapsed": false,
    "slideshow": {
     "slide_type": "subslide"
    }
   },
   "outputs": [
    {
     "data": {
      "text/html": [
       "<div>\n",
       "<table border=\"1\" class=\"dataframe\">\n",
       "  <thead>\n",
       "    <tr style=\"text-align: right;\">\n",
       "      <th></th>\n",
       "      <th>DRUG+INEFFECTIVE</th>\n",
       "      <th>NAUSEA</th>\n",
       "      <th>DEATH</th>\n",
       "      <th>FATIGUE</th>\n",
       "      <th>HEADACHE</th>\n",
       "      <th>DYSPNOEA</th>\n",
       "      <th>DIARRHOEA</th>\n",
       "      <th>PAIN</th>\n",
       "      <th>DIZZINESS</th>\n",
       "      <th>VOMITING</th>\n",
       "      <th>...</th>\n",
       "      <th>RENAL+FAILURE+ACUTE</th>\n",
       "      <th>INFLUENZA+LIKE+ILLNESS</th>\n",
       "      <th>DISEASE+PROGRESSION</th>\n",
       "      <th>ABDOMINAL+DISTENSION</th>\n",
       "      <th>NO+ADVERSE+EVENT</th>\n",
       "      <th>TOXICITY+TO+VARIOUS+AGENTS</th>\n",
       "      <th>CARDIAC+ARREST</th>\n",
       "      <th>PSORIASIS</th>\n",
       "      <th>COMPLETED+SUICIDE</th>\n",
       "      <th>HEART+RATE+INCREASED</th>\n",
       "    </tr>\n",
       "  </thead>\n",
       "  <tbody>\n",
       "    <tr>\n",
       "      <th>AD</th>\n",
       "      <td>NaN</td>\n",
       "      <td>NaN</td>\n",
       "      <td>NaN</td>\n",
       "      <td>NaN</td>\n",
       "      <td>NaN</td>\n",
       "      <td>NaN</td>\n",
       "      <td>NaN</td>\n",
       "      <td>NaN</td>\n",
       "      <td>NaN</td>\n",
       "      <td>NaN</td>\n",
       "      <td>...</td>\n",
       "      <td>NaN</td>\n",
       "      <td>NaN</td>\n",
       "      <td>NaN</td>\n",
       "      <td>NaN</td>\n",
       "      <td>NaN</td>\n",
       "      <td>NaN</td>\n",
       "      <td>NaN</td>\n",
       "      <td>1.0</td>\n",
       "      <td>NaN</td>\n",
       "      <td>NaN</td>\n",
       "    </tr>\n",
       "    <tr>\n",
       "      <th>AE</th>\n",
       "      <td>48.0</td>\n",
       "      <td>24.0</td>\n",
       "      <td>24.0</td>\n",
       "      <td>12.0</td>\n",
       "      <td>12.0</td>\n",
       "      <td>20.0</td>\n",
       "      <td>13.0</td>\n",
       "      <td>67.0</td>\n",
       "      <td>17.0</td>\n",
       "      <td>29.0</td>\n",
       "      <td>...</td>\n",
       "      <td>64.0</td>\n",
       "      <td>25.0</td>\n",
       "      <td>7.0</td>\n",
       "      <td>22.0</td>\n",
       "      <td>210.0</td>\n",
       "      <td>38.0</td>\n",
       "      <td>14.0</td>\n",
       "      <td>8.0</td>\n",
       "      <td>5.0</td>\n",
       "      <td>70.0</td>\n",
       "    </tr>\n",
       "    <tr>\n",
       "      <th>AF</th>\n",
       "      <td>NaN</td>\n",
       "      <td>NaN</td>\n",
       "      <td>NaN</td>\n",
       "      <td>2.0</td>\n",
       "      <td>NaN</td>\n",
       "      <td>NaN</td>\n",
       "      <td>NaN</td>\n",
       "      <td>NaN</td>\n",
       "      <td>NaN</td>\n",
       "      <td>NaN</td>\n",
       "      <td>...</td>\n",
       "      <td>NaN</td>\n",
       "      <td>NaN</td>\n",
       "      <td>NaN</td>\n",
       "      <td>NaN</td>\n",
       "      <td>NaN</td>\n",
       "      <td>NaN</td>\n",
       "      <td>NaN</td>\n",
       "      <td>NaN</td>\n",
       "      <td>NaN</td>\n",
       "      <td>NaN</td>\n",
       "    </tr>\n",
       "  </tbody>\n",
       "</table>\n",
       "<p>3 rows × 100 columns</p>\n",
       "</div>"
      ],
      "text/plain": [
       "    DRUG+INEFFECTIVE  NAUSEA  DEATH  FATIGUE  HEADACHE  DYSPNOEA  DIARRHOEA  \\\n",
       "AD               NaN     NaN    NaN      NaN       NaN       NaN        NaN   \n",
       "AE              48.0    24.0   24.0     12.0      12.0      20.0       13.0   \n",
       "AF               NaN     NaN    NaN      2.0       NaN       NaN        NaN   \n",
       "\n",
       "    PAIN  DIZZINESS  VOMITING          ...           RENAL+FAILURE+ACUTE  \\\n",
       "AD   NaN        NaN       NaN          ...                           NaN   \n",
       "AE  67.0       17.0      29.0          ...                          64.0   \n",
       "AF   NaN        NaN       NaN          ...                           NaN   \n",
       "\n",
       "    INFLUENZA+LIKE+ILLNESS  DISEASE+PROGRESSION  ABDOMINAL+DISTENSION  \\\n",
       "AD                     NaN                  NaN                   NaN   \n",
       "AE                    25.0                  7.0                  22.0   \n",
       "AF                     NaN                  NaN                   NaN   \n",
       "\n",
       "    NO+ADVERSE+EVENT  TOXICITY+TO+VARIOUS+AGENTS  CARDIAC+ARREST  PSORIASIS  \\\n",
       "AD               NaN                         NaN             NaN        1.0   \n",
       "AE             210.0                        38.0            14.0        8.0   \n",
       "AF               NaN                         NaN             NaN        NaN   \n",
       "\n",
       "    COMPLETED+SUICIDE  HEART+RATE+INCREASED  \n",
       "AD                NaN                   NaN  \n",
       "AE                5.0                  70.0  \n",
       "AF                NaN                   NaN  \n",
       "\n",
       "[3 rows x 100 columns]"
      ]
     },
     "execution_count": 51,
     "metadata": {},
     "output_type": "execute_result"
    }
   ],
   "source": [
    "final_df.head(3)"
   ]
  },
  {
   "cell_type": "code",
   "execution_count": 52,
   "metadata": {
    "collapsed": false,
    "slideshow": {
     "slide_type": "subslide"
    }
   },
   "outputs": [
    {
     "data": {
      "text/html": [
       "<div>\n",
       "<table border=\"1\" class=\"dataframe\">\n",
       "  <thead>\n",
       "    <tr style=\"text-align: right;\">\n",
       "      <th></th>\n",
       "      <th>DRUG+INEFFECTIVE</th>\n",
       "      <th>NAUSEA</th>\n",
       "      <th>DEATH</th>\n",
       "      <th>FATIGUE</th>\n",
       "      <th>HEADACHE</th>\n",
       "      <th>DYSPNOEA</th>\n",
       "      <th>DIARRHOEA</th>\n",
       "      <th>PAIN</th>\n",
       "      <th>DIZZINESS</th>\n",
       "      <th>VOMITING</th>\n",
       "      <th>...</th>\n",
       "      <th>RENAL+FAILURE+ACUTE</th>\n",
       "      <th>INFLUENZA+LIKE+ILLNESS</th>\n",
       "      <th>DISEASE+PROGRESSION</th>\n",
       "      <th>ABDOMINAL+DISTENSION</th>\n",
       "      <th>NO+ADVERSE+EVENT</th>\n",
       "      <th>TOXICITY+TO+VARIOUS+AGENTS</th>\n",
       "      <th>CARDIAC+ARREST</th>\n",
       "      <th>PSORIASIS</th>\n",
       "      <th>COMPLETED+SUICIDE</th>\n",
       "      <th>HEART+RATE+INCREASED</th>\n",
       "    </tr>\n",
       "  </thead>\n",
       "  <tbody>\n",
       "    <tr>\n",
       "      <th>count</th>\n",
       "      <td>100.000000</td>\n",
       "      <td>100.00000</td>\n",
       "      <td>100.000000</td>\n",
       "      <td>100.00000</td>\n",
       "      <td>100.000000</td>\n",
       "      <td>100.000000</td>\n",
       "      <td>100.000000</td>\n",
       "      <td>100.000000</td>\n",
       "      <td>100.00000</td>\n",
       "      <td>100.000000</td>\n",
       "      <td>...</td>\n",
       "      <td>100.000000</td>\n",
       "      <td>100.000000</td>\n",
       "      <td>100.000000</td>\n",
       "      <td>100.00000</td>\n",
       "      <td>1.000000e+02</td>\n",
       "      <td>100.000000</td>\n",
       "      <td>100.000000</td>\n",
       "      <td>76.000000</td>\n",
       "      <td>88.000000</td>\n",
       "      <td>100.000000</td>\n",
       "    </tr>\n",
       "    <tr>\n",
       "      <th>mean</th>\n",
       "      <td>7188.040000</td>\n",
       "      <td>1684.23000</td>\n",
       "      <td>2045.680000</td>\n",
       "      <td>1668.33000</td>\n",
       "      <td>1450.460000</td>\n",
       "      <td>1276.360000</td>\n",
       "      <td>1291.430000</td>\n",
       "      <td>5158.350000</td>\n",
       "      <td>1120.02000</td>\n",
       "      <td>984.190000</td>\n",
       "      <td>...</td>\n",
       "      <td>2627.190000</td>\n",
       "      <td>1186.500000</td>\n",
       "      <td>1425.440000</td>\n",
       "      <td>1523.20000</td>\n",
       "      <td>1.648363e+04</td>\n",
       "      <td>3115.730000</td>\n",
       "      <td>1122.070000</td>\n",
       "      <td>408.039474</td>\n",
       "      <td>319.579545</td>\n",
       "      <td>5952.360000</td>\n",
       "    </tr>\n",
       "    <tr>\n",
       "      <th>std</th>\n",
       "      <td>60204.820799</td>\n",
       "      <td>13362.48549</td>\n",
       "      <td>11833.329332</td>\n",
       "      <td>13529.13787</td>\n",
       "      <td>11773.238678</td>\n",
       "      <td>8961.395192</td>\n",
       "      <td>9533.427115</td>\n",
       "      <td>41753.326348</td>\n",
       "      <td>8634.22344</td>\n",
       "      <td>6785.488374</td>\n",
       "      <td>...</td>\n",
       "      <td>13694.657531</td>\n",
       "      <td>9784.639653</td>\n",
       "      <td>8667.061914</td>\n",
       "      <td>11499.81517</td>\n",
       "      <td>1.186010e+05</td>\n",
       "      <td>20611.026919</td>\n",
       "      <td>7485.266533</td>\n",
       "      <td>3024.905678</td>\n",
       "      <td>2012.062479</td>\n",
       "      <td>41529.111925</td>\n",
       "    </tr>\n",
       "    <tr>\n",
       "      <th>min</th>\n",
       "      <td>11.000000</td>\n",
       "      <td>2.00000</td>\n",
       "      <td>11.000000</td>\n",
       "      <td>1.00000</td>\n",
       "      <td>2.000000</td>\n",
       "      <td>3.000000</td>\n",
       "      <td>3.000000</td>\n",
       "      <td>6.000000</td>\n",
       "      <td>2.00000</td>\n",
       "      <td>3.000000</td>\n",
       "      <td>...</td>\n",
       "      <td>13.000000</td>\n",
       "      <td>1.000000</td>\n",
       "      <td>3.000000</td>\n",
       "      <td>2.00000</td>\n",
       "      <td>3.400000e+01</td>\n",
       "      <td>10.000000</td>\n",
       "      <td>3.000000</td>\n",
       "      <td>1.000000</td>\n",
       "      <td>1.000000</td>\n",
       "      <td>10.000000</td>\n",
       "    </tr>\n",
       "    <tr>\n",
       "      <th>25%</th>\n",
       "      <td>26.750000</td>\n",
       "      <td>8.00000</td>\n",
       "      <td>43.750000</td>\n",
       "      <td>6.75000</td>\n",
       "      <td>8.750000</td>\n",
       "      <td>11.000000</td>\n",
       "      <td>9.750000</td>\n",
       "      <td>23.500000</td>\n",
       "      <td>4.00000</td>\n",
       "      <td>9.750000</td>\n",
       "      <td>...</td>\n",
       "      <td>32.000000</td>\n",
       "      <td>4.000000</td>\n",
       "      <td>12.500000</td>\n",
       "      <td>10.75000</td>\n",
       "      <td>1.050000e+02</td>\n",
       "      <td>32.000000</td>\n",
       "      <td>11.000000</td>\n",
       "      <td>2.000000</td>\n",
       "      <td>2.000000</td>\n",
       "      <td>41.750000</td>\n",
       "    </tr>\n",
       "    <tr>\n",
       "      <th>50%</th>\n",
       "      <td>122.500000</td>\n",
       "      <td>31.50000</td>\n",
       "      <td>169.000000</td>\n",
       "      <td>26.50000</td>\n",
       "      <td>29.000000</td>\n",
       "      <td>53.500000</td>\n",
       "      <td>35.000000</td>\n",
       "      <td>87.000000</td>\n",
       "      <td>26.50000</td>\n",
       "      <td>48.000000</td>\n",
       "      <td>...</td>\n",
       "      <td>191.500000</td>\n",
       "      <td>16.500000</td>\n",
       "      <td>69.000000</td>\n",
       "      <td>39.00000</td>\n",
       "      <td>5.735000e+02</td>\n",
       "      <td>160.000000</td>\n",
       "      <td>72.000000</td>\n",
       "      <td>10.000000</td>\n",
       "      <td>13.000000</td>\n",
       "      <td>169.000000</td>\n",
       "    </tr>\n",
       "    <tr>\n",
       "      <th>75%</th>\n",
       "      <td>835.500000</td>\n",
       "      <td>209.50000</td>\n",
       "      <td>652.750000</td>\n",
       "      <td>225.50000</td>\n",
       "      <td>171.750000</td>\n",
       "      <td>270.750000</td>\n",
       "      <td>235.000000</td>\n",
       "      <td>659.500000</td>\n",
       "      <td>159.50000</td>\n",
       "      <td>223.000000</td>\n",
       "      <td>...</td>\n",
       "      <td>920.250000</td>\n",
       "      <td>114.000000</td>\n",
       "      <td>388.250000</td>\n",
       "      <td>263.50000</td>\n",
       "      <td>2.975500e+03</td>\n",
       "      <td>717.750000</td>\n",
       "      <td>269.500000</td>\n",
       "      <td>39.250000</td>\n",
       "      <td>52.250000</td>\n",
       "      <td>1138.250000</td>\n",
       "    </tr>\n",
       "    <tr>\n",
       "      <th>max</th>\n",
       "      <td>602511.000000</td>\n",
       "      <td>133616.00000</td>\n",
       "      <td>117603.000000</td>\n",
       "      <td>135212.00000</td>\n",
       "      <td>117729.000000</td>\n",
       "      <td>89415.000000</td>\n",
       "      <td>95233.000000</td>\n",
       "      <td>417595.000000</td>\n",
       "      <td>86248.00000</td>\n",
       "      <td>67727.000000</td>\n",
       "      <td>...</td>\n",
       "      <td>134457.000000</td>\n",
       "      <td>97863.000000</td>\n",
       "      <td>85881.000000</td>\n",
       "      <td>114900.00000</td>\n",
       "      <td>1.184843e+06</td>\n",
       "      <td>205233.000000</td>\n",
       "      <td>74781.000000</td>\n",
       "      <td>26397.000000</td>\n",
       "      <td>18837.000000</td>\n",
       "      <td>414189.000000</td>\n",
       "    </tr>\n",
       "  </tbody>\n",
       "</table>\n",
       "<p>8 rows × 100 columns</p>\n",
       "</div>"
      ],
      "text/plain": [
       "       DRUG+INEFFECTIVE        NAUSEA          DEATH       FATIGUE  \\\n",
       "count        100.000000     100.00000     100.000000     100.00000   \n",
       "mean        7188.040000    1684.23000    2045.680000    1668.33000   \n",
       "std        60204.820799   13362.48549   11833.329332   13529.13787   \n",
       "min           11.000000       2.00000      11.000000       1.00000   \n",
       "25%           26.750000       8.00000      43.750000       6.75000   \n",
       "50%          122.500000      31.50000     169.000000      26.50000   \n",
       "75%          835.500000     209.50000     652.750000     225.50000   \n",
       "max       602511.000000  133616.00000  117603.000000  135212.00000   \n",
       "\n",
       "            HEADACHE      DYSPNOEA     DIARRHOEA           PAIN    DIZZINESS  \\\n",
       "count     100.000000    100.000000    100.000000     100.000000    100.00000   \n",
       "mean     1450.460000   1276.360000   1291.430000    5158.350000   1120.02000   \n",
       "std     11773.238678   8961.395192   9533.427115   41753.326348   8634.22344   \n",
       "min         2.000000      3.000000      3.000000       6.000000      2.00000   \n",
       "25%         8.750000     11.000000      9.750000      23.500000      4.00000   \n",
       "50%        29.000000     53.500000     35.000000      87.000000     26.50000   \n",
       "75%       171.750000    270.750000    235.000000     659.500000    159.50000   \n",
       "max    117729.000000  89415.000000  95233.000000  417595.000000  86248.00000   \n",
       "\n",
       "           VOMITING          ...           RENAL+FAILURE+ACUTE  \\\n",
       "count    100.000000          ...                    100.000000   \n",
       "mean     984.190000          ...                   2627.190000   \n",
       "std     6785.488374          ...                  13694.657531   \n",
       "min        3.000000          ...                     13.000000   \n",
       "25%        9.750000          ...                     32.000000   \n",
       "50%       48.000000          ...                    191.500000   \n",
       "75%      223.000000          ...                    920.250000   \n",
       "max    67727.000000          ...                 134457.000000   \n",
       "\n",
       "       INFLUENZA+LIKE+ILLNESS  DISEASE+PROGRESSION  ABDOMINAL+DISTENSION  \\\n",
       "count              100.000000           100.000000             100.00000   \n",
       "mean              1186.500000          1425.440000            1523.20000   \n",
       "std               9784.639653          8667.061914           11499.81517   \n",
       "min                  1.000000             3.000000               2.00000   \n",
       "25%                  4.000000            12.500000              10.75000   \n",
       "50%                 16.500000            69.000000              39.00000   \n",
       "75%                114.000000           388.250000             263.50000   \n",
       "max              97863.000000         85881.000000          114900.00000   \n",
       "\n",
       "       NO+ADVERSE+EVENT  TOXICITY+TO+VARIOUS+AGENTS  CARDIAC+ARREST  \\\n",
       "count      1.000000e+02                  100.000000      100.000000   \n",
       "mean       1.648363e+04                 3115.730000     1122.070000   \n",
       "std        1.186010e+05                20611.026919     7485.266533   \n",
       "min        3.400000e+01                   10.000000        3.000000   \n",
       "25%        1.050000e+02                   32.000000       11.000000   \n",
       "50%        5.735000e+02                  160.000000       72.000000   \n",
       "75%        2.975500e+03                  717.750000      269.500000   \n",
       "max        1.184843e+06               205233.000000    74781.000000   \n",
       "\n",
       "          PSORIASIS  COMPLETED+SUICIDE  HEART+RATE+INCREASED  \n",
       "count     76.000000          88.000000            100.000000  \n",
       "mean     408.039474         319.579545           5952.360000  \n",
       "std     3024.905678        2012.062479          41529.111925  \n",
       "min        1.000000           1.000000             10.000000  \n",
       "25%        2.000000           2.000000             41.750000  \n",
       "50%       10.000000          13.000000            169.000000  \n",
       "75%       39.250000          52.250000           1138.250000  \n",
       "max    26397.000000       18837.000000         414189.000000  \n",
       "\n",
       "[8 rows x 100 columns]"
      ]
     },
     "execution_count": 52,
     "metadata": {},
     "output_type": "execute_result"
    }
   ],
   "source": [
    "final_df.describe()"
   ]
  },
  {
   "cell_type": "markdown",
   "metadata": {
    "slideshow": {
     "slide_type": "slide"
    }
   },
   "source": [
    "##### NULL VALUES DISTRIBUTION"
   ]
  },
  {
   "cell_type": "code",
   "execution_count": 53,
   "metadata": {
    "collapsed": false,
    "slideshow": {
     "slide_type": "subslide"
    }
   },
   "outputs": [
    {
     "data": {
      "image/png": "[encoded data removed]",
      "text/plain": [
       "<matplotlib.figure.Figure at 0x10d3b7f98>"
      ]
     },
     "metadata": {},
     "output_type": "display_data"
    }
   ],
   "source": [
    "x = (final_df.isnull().sum(axis=0)/final_df.shape[0])\n",
    "x.plot(kind= \"kde\", figsize = (25,5), fontsize = 12)\n",
    "plt.title(\"null value distribution by adverse event\")\n",
    "plt.show()\n"
   ]
  },
  {
   "cell_type": "code",
   "execution_count": 54,
   "metadata": {
    "collapsed": false,
    "slideshow": {
     "slide_type": "subslide"
    }
   },
   "outputs": [
    {
     "data": {
      "text/plain": [
       "'\\nx = (final_df.isnull().sum(axis=0)/final_df.shape[0])\\nx.plot(kind= \"bar\", figsize = (25,5), fontsize = 8)\\nplt.title(\"null value distribution by adverse event\")\\nplt.show()\\n'"
      ]
     },
     "execution_count": 54,
     "metadata": {},
     "output_type": "execute_result"
    }
   ],
   "source": [
    "\"\"\"\n",
    "x = (final_df.isnull().sum(axis=0)/final_df.shape[0])\n",
    "x.plot(kind= \"bar\", figsize = (25,5), fontsize = 8)\n",
    "plt.title(\"null value distribution by adverse event\")\n",
    "plt.show()\n",
    "\"\"\""
   ]
  },
  {
   "cell_type": "code",
   "execution_count": 55,
   "metadata": {
    "collapsed": false,
    "slideshow": {
     "slide_type": "subslide"
    }
   },
   "outputs": [
    {
     "data": {
      "image/png": "[encoded data removed]",
      "text/plain": [
       "<matplotlib.figure.Figure at 0x10d392240>"
      ]
     },
     "metadata": {},
     "output_type": "display_data"
    }
   ],
   "source": [
    "x = (final_df.isnull().sum(axis=1)/final_df.shape[1])\n",
    "x.plot(kind= \"kde\", figsize = (25,5), fontsize = 12)\n",
    "plt.title(\"null value distribution by country\")\n",
    "plt.show()"
   ]
  },
  {
   "cell_type": "code",
   "execution_count": 56,
   "metadata": {
    "collapsed": false,
    "slideshow": {
     "slide_type": "subslide"
    }
   },
   "outputs": [
    {
     "data": {
      "image/png": "[encoded data removed]",
      "text/plain": [
       "<matplotlib.figure.Figure at 0x10ff33470>"
      ]
     },
     "metadata": {},
     "output_type": "display_data"
    }
   ],
   "source": [
    "x = (final_df.isnull().sum(axis=1)/final_df.shape[1])\n",
    "x.sort_values(ascending=True).plot(kind= \"bar\", figsize = (25,8), fontsize = 10)\n",
    "plt.title(\"null value distribution by country\")\n",
    "plt.show()"
   ]
  },
  {
   "cell_type": "markdown",
   "metadata": {
    "slideshow": {
     "slide_type": "slide"
    }
   },
   "source": [
    "#### Number of adverse events reported (by country)"
   ]
  },
  {
   "cell_type": "code",
   "execution_count": 57,
   "metadata": {
    "collapsed": false,
    "slideshow": {
     "slide_type": "subslide"
    }
   },
   "outputs": [
    {
     "data": {
      "image/png": "[encoded data removed]",
      "text/plain": [
       "<matplotlib.figure.Figure at 0x10fceb630>"
      ]
     },
     "metadata": {},
     "output_type": "display_data"
    }
   ],
   "source": [
    "final_df.sum(axis=1).plot(kind=\"bar\", figsize = (30,6))\n",
    "plt.title(\"Counts of adverse events reported (by country)\")\n",
    "plt.show()\n",
    "\n",
    "# the US is definitely OVER REPRESENTED!"
   ]
  },
  {
   "cell_type": "markdown",
   "metadata": {
    "slideshow": {
     "slide_type": "slide"
    }
   },
   "source": [
    "##### Number of different adverse events reported by country (out of a total of 100 different possible events)"
   ]
  },
  {
   "cell_type": "code",
   "execution_count": 59,
   "metadata": {
    "collapsed": false,
    "slideshow": {
     "slide_type": "subslide"
    }
   },
   "outputs": [
    {
     "data": {
      "image/png": "[encoded data removed]",
      "text/plain": [
       "<matplotlib.figure.Figure at 0x10d0699b0>"
      ]
     },
     "metadata": {},
     "output_type": "display_data"
    }
   ],
   "source": [
    "final_df.transpose().describe().loc[\"count\"].sort_values().plot(kind=\"bar\", figsize = (32,12), fontsize= 11)\n",
    "plt.title(\"Number of different adverse events reported (by country)\")\n",
    "\n",
    "plt.show()"
   ]
  },
  {
   "cell_type": "code",
   "execution_count": 60,
   "metadata": {
    "collapsed": false,
    "slideshow": {
     "slide_type": "subslide"
    }
   },
   "outputs": [
    {
     "data": {
      "image/png": "[encoded data removed]",
      "text/plain": [
       "<matplotlib.figure.Figure at 0x110f5cc88>"
      ]
     },
     "metadata": {},
     "output_type": "display_data"
    }
   ],
   "source": [
    "final_df.transpose().describe().loc[\"count\"].plot(kind=\"hist\", figsize = (15,3))\n",
    "plt.title(\"Number of different adverse events reported (by country)\")\n",
    "plt.show()"
   ]
  },
  {
   "cell_type": "code",
   "execution_count": 61,
   "metadata": {
    "collapsed": false,
    "scrolled": true,
    "slideshow": {
     "slide_type": "subslide"
    }
   },
   "outputs": [
    {
     "ename": "FileNotFoundError",
     "evalue": "File b'./continents.csv' does not exist",
     "output_type": "error",
     "traceback": [
      "\u001b[0;31m---------------------------------------------------------------------------\u001b[0m",
      "\u001b[0;31mFileNotFoundError\u001b[0m                         Traceback (most recent call last)",
      "\u001b[0;32m<ipython-input-61-974c3d527614>\u001b[0m in \u001b[0;36m<module>\u001b[0;34m()\u001b[0m\n\u001b[1;32m      1\u001b[0m \u001b[0;31m# grouping countries into continents\u001b[0m\u001b[0;34m\u001b[0m\u001b[0;34m\u001b[0m\u001b[0m\n\u001b[1;32m      2\u001b[0m \u001b[0;34m\u001b[0m\u001b[0m\n\u001b[0;32m----> 3\u001b[0;31m \u001b[0mcontinents\u001b[0m \u001b[0;34m=\u001b[0m \u001b[0mpd\u001b[0m\u001b[0;34m.\u001b[0m\u001b[0mread_csv\u001b[0m\u001b[0;34m(\u001b[0m\u001b[0;34m\"./continents.csv\"\u001b[0m\u001b[0;34m)\u001b[0m\u001b[0;34m\u001b[0m\u001b[0m\n\u001b[0m\u001b[1;32m      4\u001b[0m \u001b[0;34m\u001b[0m\u001b[0m\n\u001b[1;32m      5\u001b[0m \u001b[0mcontinent_dict\u001b[0m \u001b[0;34m=\u001b[0m \u001b[0;34m{\u001b[0m\u001b[0;34m}\u001b[0m\u001b[0;34m\u001b[0m\u001b[0m\n",
      "\u001b[0;32m//anaconda/envs/opencv/lib/python3.5/site-packages/pandas/io/parsers.py\u001b[0m in \u001b[0;36mparser_f\u001b[0;34m(filepath_or_buffer, sep, delimiter, header, names, index_col, usecols, squeeze, prefix, mangle_dupe_cols, dtype, engine, converters, true_values, false_values, skipinitialspace, skiprows, nrows, na_values, keep_default_na, na_filter, verbose, skip_blank_lines, parse_dates, infer_datetime_format, keep_date_col, date_parser, dayfirst, iterator, chunksize, compression, thousands, decimal, lineterminator, quotechar, quoting, escapechar, comment, encoding, dialect, tupleize_cols, error_bad_lines, warn_bad_lines, skipfooter, skip_footer, doublequote, delim_whitespace, as_recarray, compact_ints, use_unsigned, low_memory, buffer_lines, memory_map, float_precision)\u001b[0m\n\u001b[1;32m    643\u001b[0m                     skip_blank_lines=skip_blank_lines)\n\u001b[1;32m    644\u001b[0m \u001b[0;34m\u001b[0m\u001b[0m\n\u001b[0;32m--> 645\u001b[0;31m         \u001b[0;32mreturn\u001b[0m \u001b[0m_read\u001b[0m\u001b[0;34m(\u001b[0m\u001b[0mfilepath_or_buffer\u001b[0m\u001b[0;34m,\u001b[0m \u001b[0mkwds\u001b[0m\u001b[0;34m)\u001b[0m\u001b[0;34m\u001b[0m\u001b[0m\n\u001b[0m\u001b[1;32m    646\u001b[0m \u001b[0;34m\u001b[0m\u001b[0m\n\u001b[1;32m    647\u001b[0m     \u001b[0mparser_f\u001b[0m\u001b[0;34m.\u001b[0m\u001b[0m__name__\u001b[0m \u001b[0;34m=\u001b[0m \u001b[0mname\u001b[0m\u001b[0;34m\u001b[0m\u001b[0m\n",
      "\u001b[0;32m//anaconda/envs/opencv/lib/python3.5/site-packages/pandas/io/parsers.py\u001b[0m in \u001b[0;36m_read\u001b[0;34m(filepath_or_buffer, kwds)\u001b[0m\n\u001b[1;32m    386\u001b[0m \u001b[0;34m\u001b[0m\u001b[0m\n\u001b[1;32m    387\u001b[0m     \u001b[0;31m# Create the parser.\u001b[0m\u001b[0;34m\u001b[0m\u001b[0;34m\u001b[0m\u001b[0m\n\u001b[0;32m--> 388\u001b[0;31m     \u001b[0mparser\u001b[0m \u001b[0;34m=\u001b[0m \u001b[0mTextFileReader\u001b[0m\u001b[0;34m(\u001b[0m\u001b[0mfilepath_or_buffer\u001b[0m\u001b[0;34m,\u001b[0m \u001b[0;34m**\u001b[0m\u001b[0mkwds\u001b[0m\u001b[0;34m)\u001b[0m\u001b[0;34m\u001b[0m\u001b[0m\n\u001b[0m\u001b[1;32m    389\u001b[0m \u001b[0;34m\u001b[0m\u001b[0m\n\u001b[1;32m    390\u001b[0m     \u001b[0;32mif\u001b[0m \u001b[0;34m(\u001b[0m\u001b[0mnrows\u001b[0m \u001b[0;32mis\u001b[0m \u001b[0;32mnot\u001b[0m \u001b[0;32mNone\u001b[0m\u001b[0;34m)\u001b[0m \u001b[0;32mand\u001b[0m \u001b[0;34m(\u001b[0m\u001b[0mchunksize\u001b[0m \u001b[0;32mis\u001b[0m \u001b[0;32mnot\u001b[0m \u001b[0;32mNone\u001b[0m\u001b[0;34m)\u001b[0m\u001b[0;34m:\u001b[0m\u001b[0;34m\u001b[0m\u001b[0m\n",
      "\u001b[0;32m//anaconda/envs/opencv/lib/python3.5/site-packages/pandas/io/parsers.py\u001b[0m in \u001b[0;36m__init__\u001b[0;34m(self, f, engine, **kwds)\u001b[0m\n\u001b[1;32m    727\u001b[0m             \u001b[0mself\u001b[0m\u001b[0;34m.\u001b[0m\u001b[0moptions\u001b[0m\u001b[0;34m[\u001b[0m\u001b[0;34m'has_index_names'\u001b[0m\u001b[0;34m]\u001b[0m \u001b[0;34m=\u001b[0m \u001b[0mkwds\u001b[0m\u001b[0;34m[\u001b[0m\u001b[0;34m'has_index_names'\u001b[0m\u001b[0;34m]\u001b[0m\u001b[0;34m\u001b[0m\u001b[0m\n\u001b[1;32m    728\u001b[0m \u001b[0;34m\u001b[0m\u001b[0m\n\u001b[0;32m--> 729\u001b[0;31m         \u001b[0mself\u001b[0m\u001b[0;34m.\u001b[0m\u001b[0m_make_engine\u001b[0m\u001b[0;34m(\u001b[0m\u001b[0mself\u001b[0m\u001b[0;34m.\u001b[0m\u001b[0mengine\u001b[0m\u001b[0;34m)\u001b[0m\u001b[0;34m\u001b[0m\u001b[0m\n\u001b[0m\u001b[1;32m    730\u001b[0m \u001b[0;34m\u001b[0m\u001b[0m\n\u001b[1;32m    731\u001b[0m     \u001b[0;32mdef\u001b[0m \u001b[0mclose\u001b[0m\u001b[0;34m(\u001b[0m\u001b[0mself\u001b[0m\u001b[0;34m)\u001b[0m\u001b[0;34m:\u001b[0m\u001b[0;34m\u001b[0m\u001b[0m\n",
      "\u001b[0;32m//anaconda/envs/opencv/lib/python3.5/site-packages/pandas/io/parsers.py\u001b[0m in \u001b[0;36m_make_engine\u001b[0;34m(self, engine)\u001b[0m\n\u001b[1;32m    920\u001b[0m     \u001b[0;32mdef\u001b[0m \u001b[0m_make_engine\u001b[0m\u001b[0;34m(\u001b[0m\u001b[0mself\u001b[0m\u001b[0;34m,\u001b[0m \u001b[0mengine\u001b[0m\u001b[0;34m=\u001b[0m\u001b[0;34m'c'\u001b[0m\u001b[0;34m)\u001b[0m\u001b[0;34m:\u001b[0m\u001b[0;34m\u001b[0m\u001b[0m\n\u001b[1;32m    921\u001b[0m         \u001b[0;32mif\u001b[0m \u001b[0mengine\u001b[0m \u001b[0;34m==\u001b[0m \u001b[0;34m'c'\u001b[0m\u001b[0;34m:\u001b[0m\u001b[0;34m\u001b[0m\u001b[0m\n\u001b[0;32m--> 922\u001b[0;31m             \u001b[0mself\u001b[0m\u001b[0;34m.\u001b[0m\u001b[0m_engine\u001b[0m \u001b[0;34m=\u001b[0m \u001b[0mCParserWrapper\u001b[0m\u001b[0;34m(\u001b[0m\u001b[0mself\u001b[0m\u001b[0;34m.\u001b[0m\u001b[0mf\u001b[0m\u001b[0;34m,\u001b[0m \u001b[0;34m**\u001b[0m\u001b[0mself\u001b[0m\u001b[0;34m.\u001b[0m\u001b[0moptions\u001b[0m\u001b[0;34m)\u001b[0m\u001b[0;34m\u001b[0m\u001b[0m\n\u001b[0m\u001b[1;32m    923\u001b[0m         \u001b[0;32melse\u001b[0m\u001b[0;34m:\u001b[0m\u001b[0;34m\u001b[0m\u001b[0m\n\u001b[1;32m    924\u001b[0m             \u001b[0;32mif\u001b[0m \u001b[0mengine\u001b[0m \u001b[0;34m==\u001b[0m \u001b[0;34m'python'\u001b[0m\u001b[0;34m:\u001b[0m\u001b[0;34m\u001b[0m\u001b[0m\n",
      "\u001b[0;32m//anaconda/envs/opencv/lib/python3.5/site-packages/pandas/io/parsers.py\u001b[0m in \u001b[0;36m__init__\u001b[0;34m(self, src, **kwds)\u001b[0m\n\u001b[1;32m   1387\u001b[0m         \u001b[0mkwds\u001b[0m\u001b[0;34m[\u001b[0m\u001b[0;34m'allow_leading_cols'\u001b[0m\u001b[0;34m]\u001b[0m \u001b[0;34m=\u001b[0m \u001b[0mself\u001b[0m\u001b[0;34m.\u001b[0m\u001b[0mindex_col\u001b[0m \u001b[0;32mis\u001b[0m \u001b[0;32mnot\u001b[0m \u001b[0;32mFalse\u001b[0m\u001b[0;34m\u001b[0m\u001b[0m\n\u001b[1;32m   1388\u001b[0m \u001b[0;34m\u001b[0m\u001b[0m\n\u001b[0;32m-> 1389\u001b[0;31m         \u001b[0mself\u001b[0m\u001b[0;34m.\u001b[0m\u001b[0m_reader\u001b[0m \u001b[0;34m=\u001b[0m \u001b[0m_parser\u001b[0m\u001b[0;34m.\u001b[0m\u001b[0mTextReader\u001b[0m\u001b[0;34m(\u001b[0m\u001b[0msrc\u001b[0m\u001b[0;34m,\u001b[0m \u001b[0;34m**\u001b[0m\u001b[0mkwds\u001b[0m\u001b[0;34m)\u001b[0m\u001b[0;34m\u001b[0m\u001b[0m\n\u001b[0m\u001b[1;32m   1390\u001b[0m \u001b[0;34m\u001b[0m\u001b[0m\n\u001b[1;32m   1391\u001b[0m         \u001b[0;31m# XXX\u001b[0m\u001b[0;34m\u001b[0m\u001b[0;34m\u001b[0m\u001b[0m\n",
      "\u001b[0;32mpandas/parser.pyx\u001b[0m in \u001b[0;36mpandas.parser.TextReader.__cinit__ (pandas/parser.c:4175)\u001b[0;34m()\u001b[0m\n",
      "\u001b[0;32mpandas/parser.pyx\u001b[0m in \u001b[0;36mpandas.parser.TextReader._setup_parser_source (pandas/parser.c:8440)\u001b[0;34m()\u001b[0m\n",
      "\u001b[0;31mFileNotFoundError\u001b[0m: File b'./continents.csv' does not exist"
     ]
    }
   ],
   "source": [
    "# grouping countries into continents \n",
    "\n",
    "continents = pd.read_csv(\"./continents.csv\")\n",
    "\n",
    "continent_dict = {}\n",
    "for i in continents.columns:\n",
    "    k = list(continents[i].dropna())\n",
    "    continent_dict.update(dict.fromkeys(k, i))\n",
    "    \n",
    "continent_df = final_df.copy()\n",
    "continent_df[\"continent\"] = [continent_dict.get(i) for i in final_df.index]\n",
    "continent_df.head(3)"
   ]
  },
  {
   "cell_type": "code",
   "execution_count": 62,
   "metadata": {
    "collapsed": false,
    "slideshow": {
     "slide_type": "subslide"
    }
   },
   "outputs": [
    {
     "ename": "NameError",
     "evalue": "name 'continent_df' is not defined",
     "output_type": "error",
     "traceback": [
      "\u001b[0;31m---------------------------------------------------------------------------\u001b[0m",
      "\u001b[0;31mNameError\u001b[0m                                 Traceback (most recent call last)",
      "\u001b[0;32m<ipython-input-62-ea99e81e4a55>\u001b[0m in \u001b[0;36m<module>\u001b[0;34m()\u001b[0m\n\u001b[0;32m----> 1\u001b[0;31m \u001b[0mcontinent_df\u001b[0m\u001b[0;34m.\u001b[0m\u001b[0mgroupby\u001b[0m\u001b[0;34m(\u001b[0m\u001b[0;34m\"continent\"\u001b[0m\u001b[0;34m)\u001b[0m\u001b[0;34m.\u001b[0m\u001b[0magg\u001b[0m\u001b[0;34m(\u001b[0m\u001b[0;34m\"sum\"\u001b[0m\u001b[0;34m)\u001b[0m\u001b[0;34m.\u001b[0m\u001b[0msum\u001b[0m\u001b[0;34m(\u001b[0m\u001b[0maxis\u001b[0m\u001b[0;34m=\u001b[0m\u001b[0;36m1\u001b[0m\u001b[0;34m)\u001b[0m\u001b[0;34m.\u001b[0m\u001b[0mplot\u001b[0m\u001b[0;34m(\u001b[0m\u001b[0mkind\u001b[0m\u001b[0;34m=\u001b[0m\u001b[0;34m\"barh\"\u001b[0m\u001b[0;34m,\u001b[0m \u001b[0mfigsize\u001b[0m \u001b[0;34m=\u001b[0m \u001b[0;34m(\u001b[0m\u001b[0;36m25\u001b[0m\u001b[0;34m,\u001b[0m\u001b[0;36m8\u001b[0m\u001b[0;34m)\u001b[0m\u001b[0;34m,\u001b[0m \u001b[0mfontsize\u001b[0m\u001b[0;34m=\u001b[0m \u001b[0;36m12\u001b[0m\u001b[0;34m)\u001b[0m\u001b[0;34m\u001b[0m\u001b[0m\n\u001b[0m\u001b[1;32m      2\u001b[0m \u001b[0mplt\u001b[0m\u001b[0;34m.\u001b[0m\u001b[0mtitle\u001b[0m\u001b[0;34m(\u001b[0m\u001b[0;34m\"Number of different adverse events reported (by continent)\"\u001b[0m\u001b[0;34m)\u001b[0m\u001b[0;34m\u001b[0m\u001b[0m\n\u001b[1;32m      3\u001b[0m \u001b[0mplt\u001b[0m\u001b[0;34m.\u001b[0m\u001b[0mshow\u001b[0m\u001b[0;34m(\u001b[0m\u001b[0;34m)\u001b[0m\u001b[0;34m\u001b[0m\u001b[0m\n",
      "\u001b[0;31mNameError\u001b[0m: name 'continent_df' is not defined"
     ]
    }
   ],
   "source": [
    "continent_df.groupby(\"continent\").agg(\"sum\").sum(axis=1).plot(kind=\"barh\", figsize = (25,8), fontsize= 12)\n",
    "plt.title(\"Number of different adverse events reported (by continent)\")\n",
    "plt.show()"
   ]
  },
  {
   "cell_type": "markdown",
   "metadata": {
    "slideshow": {
     "slide_type": "slide"
    }
   },
   "source": [
    "##### Most common adverse events"
   ]
  },
  {
   "cell_type": "code",
   "execution_count": 63,
   "metadata": {
    "collapsed": false,
    "scrolled": true,
    "slideshow": {
     "slide_type": "subslide"
    }
   },
   "outputs": [],
   "source": [
    "common_by_country = final_df.idxmax(axis=1)\n",
    "top_disease = common_by_country.value_counts()[:25].index"
   ]
  },
  {
   "cell_type": "code",
   "execution_count": null,
   "metadata": {
    "collapsed": false,
    "slideshow": {
     "slide_type": "subslide"
    }
   },
   "outputs": [
    {
     "data": {
      "image/png": "[encoded data removed]",
      "text/plain": [
       "<matplotlib.figure.Figure at 0x1102df668>"
      ]
     },
     "metadata": {},
     "output_type": "display_data"
    }
   ],
   "source": [
    "common_by_country.value_counts()[:25].plot(kind=\"barh\", figsize=(20,6))\n",
    "plt.title(\"Most commonly reported adverse reactions across all countries\")\n",
    "# by number of countries which report the specific adverse event as their most common one \n",
    "plt.show()"
   ]
  },
  {
   "cell_type": "code",
   "execution_count": null,
   "metadata": {
    "collapsed": false,
    "slideshow": {
     "slide_type": "subslide"
    }
   },
   "outputs": [],
   "source": [
    "final_df.sum().sort_values(ascending=False).plot(kind = \"bar\", figsize= (25,10), fontsize=12)\n",
    "plt.title(\"raw counts of adverse events across all countries\")\n",
    "plt.show()"
   ]
  },
  {
   "cell_type": "markdown",
   "metadata": {
    "slideshow": {
     "slide_type": "slide"
    }
   },
   "source": [
    "#### Top 10 most common adverse events (by top 25 countries with most reported adverse events)"
   ]
  },
  {
   "cell_type": "code",
   "execution_count": null,
   "metadata": {
    "collapsed": false,
    "slideshow": {
     "slide_type": "subslide"
    }
   },
   "outputs": [],
   "source": [
    "# Top 10 most common adverse events (by top 25 countries with most reported adverse events)\n",
    "most_reported_events_by_country = final_df.sum(axis=1).sort_values(ascending=False)\n",
    "top_countries = most_reported_events_by_country.index[:25]\n",
    "\n",
    "final_df.loc[top_countries][top_disease[:10]].plot(kind=\"bar\", figsize=(25,12), stacked = True)\n",
    "plt.title(\"adverse events by top 25 most reporting countries (incl US)\")\n",
    "plt.show()"
   ]
  },
  {
   "cell_type": "code",
   "execution_count": null,
   "metadata": {
    "collapsed": false,
    "slideshow": {
     "slide_type": "subslide"
    }
   },
   "outputs": [],
   "source": [
    "# Top 10 most common adverse events (by top 25 countries with most reported adverse events)\n",
    "most_reported_events_by_country = final_df.sum(axis=1).sort_values(ascending=False)\n",
    "top_countries = most_reported_events_by_country.index[:25]\n",
    "\n",
    "final_df.loc[top_countries][top_disease[:10]].drop(\"US\", axis=0).plot(kind=\"bar\", figsize=(25,12), stacked = True)\n",
    "plt.title(\"top 10 adverse events by top 25 most reporting countries (excluding US)\")\n",
    "plt.show()"
   ]
  },
  {
   "cell_type": "code",
   "execution_count": null,
   "metadata": {
    "collapsed": false,
    "slideshow": {
     "slide_type": "subslide"
    }
   },
   "outputs": [],
   "source": [
    "# NORMALISED - Top 10 most common adverse events (by top 25 countries with most reported adverse events)\n",
    "norm_df = final_df.divide(final_df.sum(axis=1), axis=0)\n",
    "norm_df.loc[top_countries][top_disease[:10]].plot(kind=\"bar\", figsize=(25,15), stacked = True)\n",
    "plt.title(\"normalised counts of adverse events by top 25 most reporting countries (incl US)\")\n",
    "plt.show()"
   ]
  },
  {
   "cell_type": "code",
   "execution_count": null,
   "metadata": {
    "collapsed": false,
    "scrolled": false,
    "slideshow": {
     "slide_type": "subslide"
    }
   },
   "outputs": [],
   "source": [
    "# NORMALISED - Top 10 most common adverse events (by continent)\n",
    "continent_df.groupby(\"continent\").agg(\"sum\")[top_disease[:10]].plot(kind=\"barh\", figsize=(30,15), \n",
    "                                                                    stacked = True, fontsize = 15)\n",
    "plt.title(\"counts of adverse events by top 25 most reporting countries (incl US)\")\n",
    "plt.show()"
   ]
  },
  {
   "cell_type": "code",
   "execution_count": null,
   "metadata": {
    "collapsed": false,
    "slideshow": {
     "slide_type": "subslide"
    }
   },
   "outputs": [],
   "source": [
    "# NORMALISED - Top 10 most common adverse events (by continent)\n",
    "continent_counts = continent_df.groupby(\"continent\").agg(\"sum\")\n",
    "norm_continents = continent_counts.divide(continent_counts.sum(axis=1), axis=0)\n",
    "\n",
    "norm_continents[top_disease[:10]].plot(kind=\"barh\", figsize=(30,15), stacked = True)\n",
    "plt.title(\"normalised counts of adverse events by continent\")\n",
    "plt.show()"
   ]
  },
  {
   "cell_type": "markdown",
   "metadata": {
    "slideshow": {
     "slide_type": "slide"
    }
   },
   "source": [
    "### Who is reporting adverse drug reactions?"
   ]
  },
  {
   "cell_type": "code",
   "execution_count": null,
   "metadata": {
    "collapsed": false,
    "scrolled": true,
    "slideshow": {
     "slide_type": "subslide"
    }
   },
   "outputs": [],
   "source": [
    "#get reporter data by country\n",
    "URL = \"https://api.fda.gov/drug/event.json?search=primarysource.qualification:XXX&count=occurcountry.exact\"\n",
    "URL_x=[]\n",
    "for i in range(1,6):\n",
    "    URL_x.append(URL.replace(\"XXX\", str(i)))\n",
    "    \n",
    "# download data and store in dataframe\n",
    "df_append = []\n",
    "for url in URL_x:\n",
    "    data = requests.get(url).json()\n",
    "    df = pd.DataFrame(data.get(\"results\"))\n",
    "    df.set_index(\"term\", drop=True, inplace=True)\n",
    "    df_append.append(df)"
   ]
  },
  {
   "cell_type": "code",
   "execution_count": null,
   "metadata": {
    "collapsed": false,
    "slideshow": {
     "slide_type": "subslide"
    }
   },
   "outputs": [],
   "source": [
    "# concatenate \n",
    "reporter_dict = {1:\"Physician\", 2:\"Pharmacist\", 3:\"Other health professional\", 4:\"Lawyer\", 5:\"Consumer or non-health professional\"}\n",
    "reporter_df = pd.concat(df_append, axis = 1)\n",
    "reporter_df.columns = [reporter_dict.get(i) for i in range(1,6)]\n",
    "reporter_df.shape"
   ]
  },
  {
   "cell_type": "code",
   "execution_count": null,
   "metadata": {
    "collapsed": false,
    "slideshow": {
     "slide_type": "subslide"
    }
   },
   "outputs": [],
   "source": [
    "# Reporters of adverse events (incl US)\n",
    "\n",
    "reporter_df.loc[top_countries].plot(kind=\"bar\", figsize=(25,12), stacked = True)\n",
    "plt.title(\"Reporters of adverse events (incl US)\")\n",
    "plt.show()"
   ]
  },
  {
   "cell_type": "code",
   "execution_count": null,
   "metadata": {
    "collapsed": false,
    "slideshow": {
     "slide_type": "subslide"
    }
   },
   "outputs": [],
   "source": [
    "# Reporters of adverse events (excluding US)\n",
    "\n",
    "reporter_df.loc[top_countries].drop(\"US\", axis=0).plot(kind=\"bar\", figsize=(25,12), stacked = True)\n",
    "plt.title(\"Reporters of adverse events (excluding US)\")\n",
    "plt.show()"
   ]
  },
  {
   "cell_type": "code",
   "execution_count": null,
   "metadata": {
    "collapsed": false
   },
   "outputs": [],
   "source": [
    "# NORMALISED - Reporters of adverse events (excluding US)\n",
    "\n",
    "norm_reporter_df = reporter_df.divide(reporter_df.sum(axis=1), axis=0)\n",
    "norm_reporter_df.loc[top_countries].plot(kind=\"bar\", figsize=(25,12), stacked = True)\n",
    "plt.title(\"NORMALISED - Reporters of adverse events (excluding US)\")\n",
    "plt.show()"
   ]
  },
  {
   "cell_type": "markdown",
   "metadata": {
    "slideshow": {
     "slide_type": "subslide"
    }
   },
   "source": [
    "##### Who is reporting off-label use?"
   ]
  },
  {
   "cell_type": "code",
   "execution_count": null,
   "metadata": {
    "collapsed": false,
    "slideshow": {
     "slide_type": "subslide"
    }
   },
   "outputs": [],
   "source": [
    "#get off label reporter data\n",
    "URL = \"https://api.fda.gov/drug/event.json?search=patient.reaction.reactionmeddrapt.exact:OFF+LABEL+USE&count=primarysource.qualification\"\n",
    "off_label_data = requests.get(URL).json()"
   ]
  },
  {
   "cell_type": "code",
   "execution_count": null,
   "metadata": {
    "collapsed": false,
    "slideshow": {
     "slide_type": "subslide"
    }
   },
   "outputs": [],
   "source": [
    "off_label_df = pd.DataFrame(off_label_data.get(\"results\"))\n",
    "reporter_dict = {1:\"Physician\", 2:\"Pharmacist\", 3:\"Other health professional\", 4:\"Lawyer\", 5:\"Consumer or non-health professional\"}\n",
    "off_label_df[\"reporter\"] = [reporter_dict.get(i) for i in off_label_df.term]\n",
    "off_label_df.drop([\"term\"], axis=1, inplace=True)"
   ]
  },
  {
   "cell_type": "code",
   "execution_count": null,
   "metadata": {
    "collapsed": false,
    "slideshow": {
     "slide_type": "subslide"
    }
   },
   "outputs": [],
   "source": [
    "off_label_df.set_index(\"reporter\", drop=True).plot(kind=\"barh\", figsize = (25,5), fontsize=12)\n",
    "plt.show()"
   ]
  },
  {
   "cell_type": "markdown",
   "metadata": {},
   "source": [
    "### Serious events\n",
    "##### serious event: adverse event resulted in death, a life threatening condition, hospitalization, disability, congenital anomaly, or other serious condition"
   ]
  },
  {
   "cell_type": "code",
   "execution_count": null,
   "metadata": {
    "collapsed": true
   },
   "outputs": [],
   "source": [
    "# list of reactions\n",
    "rxns = []\n",
    "for i in rxn_counts.term:\n",
    "    rxns.append(i.replace(\" \", \"+\"))\n",
    "\n",
    "# create list of URLS to get reaction counts for all countries\n",
    "URL = \"https://api.fda.gov/drug/event.json?search=patient.reaction.reactionmeddrapt:XXX&count=serious\"\n",
    "URL_x=[]\n",
    "for i in rxns:\n",
    "    URL_x.append(URL.replace(\"XXX\", i))\n",
    "\n",
    "# download data and store in dataframe\n",
    "df_append = []\n",
    "for url in URL_x:\n",
    "    data = requests.get(url).json()\n",
    "    df = pd.DataFrame(data.get(\"results\"))\n",
    "    df.set_index(\"term\", drop=True, inplace=True)\n",
    "    df_append.append(df)"
   ]
  },
  {
   "cell_type": "code",
   "execution_count": null,
   "metadata": {
    "collapsed": false
   },
   "outputs": [],
   "source": [
    "serious_df = pd.concat(df_append, axis=1)\n",
    "serious_df.columns = rxns\n",
    "serious_df.shape"
   ]
  },
  {
   "cell_type": "code",
   "execution_count": null,
   "metadata": {
    "collapsed": false,
    "scrolled": false
   },
   "outputs": [],
   "source": [
    "norm_serious_df = serious_df.divide(serious_df.sum(axis=1), axis=0)\n",
    "norm_serious_df.T.sort_values(by=1, ascending=False).iloc[:25,0].plot(kind=\"bar\", figsize = (25,5))\n",
    "plt.show()"
   ]
  },
  {
   "cell_type": "code",
   "execution_count": null,
   "metadata": {
    "collapsed": true
   },
   "outputs": [],
   "source": []
  }
 ],
 "metadata": {
  "anaconda-cloud": {},
  "kernelspec": {
   "display_name": "Python [conda env:opencv]",
   "language": "python",
   "name": "conda-env-opencv-py"
  },
  "language_info": {
   "codemirror_mode": {
    "name": "ipython",
    "version": 3
   },
   "file_extension": ".py",
   "mimetype": "text/x-python",
   "name": "python",
   "nbconvert_exporter": "python",
   "pygments_lexer": "ipython3",
   "version": "3.5.2"
  }
 },
 "nbformat": 4,
 "nbformat_minor": 1
}
